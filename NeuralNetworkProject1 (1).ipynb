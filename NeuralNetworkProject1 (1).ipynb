{
  "nbformat": 4,
  "nbformat_minor": 0,
  "metadata": {
    "colab": {
      "provenance": []
    },
    "kernelspec": {
      "name": "python3",
      "display_name": "Python 3"
    },
    "language_info": {
      "name": "python"
    }
  },
  "cells": [
    {
      "cell_type": "markdown",
      "source": [
        "## **Recognize Handwritten digits Using A Simple Neural Network in Python**"
      ],
      "metadata": {
        "id": "vlEyCHPAf_4i"
      }
    },
    {
      "cell_type": "markdown",
      "source": [
        "Dataset used: MNIST dataset for handwritten digit recognition"
      ],
      "metadata": {
        "id": "fRGmqDyLgy79"
      }
    },
    {
      "cell_type": "markdown",
      "source": [
        "This neural network is a type of feedforward neural network, commonly used for supervised learning tasks like classification. Given its architecture and the choice of activation functions, it's suitable for solving problems where non-linear relationships need to be captured in the data, and it's specifically designed for multi-class classification tasks with 10 output classes."
      ],
      "metadata": {
        "id": "rRHsIAW3hAe2"
      }
    },
    {
      "cell_type": "code",
      "execution_count": 1,
      "metadata": {
        "id": "5F_MiVQR_OO1"
      },
      "outputs": [],
      "source": [
        "import os\n",
        "import cv2 #process image\n",
        "import numpy as np\n",
        "import matplotlib.pyplot as plt\n",
        "import tensorflow as tf #ml part\n",
        "\n",
        "mnist = tf.keras.datasets.mnist #load the MNIST dataset using TensorFlow's Keras API\n",
        "(X_train,y_train), (X_test,y_test) = mnist.load_data() #loading the data"
      ]
    },
    {
      "cell_type": "code",
      "source": [
        "'''#We dont want to normalize the digits just the pixels is enough\n",
        "X_train = tf.keras.utils.normalize(X_train,axis=1)\n",
        "X_test = tf.keras.utils.normalize(X_test,axis=1)"
      ],
      "metadata": {
        "id": "qcTzU_Ow_2Q7"
      },
      "execution_count": 2,
      "outputs": []
    },
    {
      "cell_type": "code",
      "source": [
        "'''model = tf.keras.models.Sequential()\n",
        "#creating a sequential layer, where we can add layers as a stack one at a time. It is called sequential because we build the neural network model sequentially adding one layer after another."
      ],
      "metadata": {
        "id": "W-7gARtFBG-K"
      },
      "execution_count": 3,
      "outputs": []
    },
    {
      "cell_type": "markdown",
      "source": [
        "1. We have one input layer\n",
        "2. Two hidden layers\n",
        "3. And one output layer\n",
        "\n",
        "Softmax converts the raw outputs into probability scores."
      ],
      "metadata": {
        "id": "dML1r4eRgZXv"
      }
    },
    {
      "cell_type": "code",
      "source": [
        "'''model.add(tf.keras.layers.Flatten(input_shape=(28,28))) #flattering the input data into an array of length 28*28\n",
        "model.add(tf.keras.layers.Dense(units=128,activation='relu')) #units specify the number of neurons in the dense layer\n",
        "model.add(tf.keras.layers.Dense(units=128,activation='relu'))\n",
        "model.add(tf.keras.layers.Dense(units=10,activation='softmax')) #last layer with 10 neurons -> output layer (0 -9), softmax is an activation funtion used for multiclass classification tasks."
      ],
      "metadata": {
        "id": "9Tu_2CPMC2av"
      },
      "execution_count": 4,
      "outputs": []
    },
    {
      "cell_type": "code",
      "source": [
        "#compile function basically set various attributes and options for the training process before actually training the model\n",
        "#When you compile a model, you define how it should be optimized, what loss function to use, and what metrics to monitor during training.\n",
        "\n",
        "#optimizer determines how the model's weights are updated during training to minimize the defined loss function\n",
        "#adam: Adaptive Moment Estimation -> uses RMSprop and Momentum\n",
        "#loss function: for classification problems, categorical crossentropy is mainly used\n",
        "#metrics: used to evaluate the model's performance during training and testing\n",
        "\n",
        "'''model.compile(optimizer='adam',loss='sparse_categorical_crossentropy',metrics=['accuracy'])"
      ],
      "metadata": {
        "id": "HhcgC2VXHbvS"
      },
      "execution_count": 5,
      "outputs": []
    },
    {
      "cell_type": "code",
      "source": [
        "'''model.fit(X_train,y_train,epochs=3) #epochs are given to specify how many times the training has to be done\n",
        "model.save('handwritten.model')"
      ],
      "metadata": {
        "colab": {
          "base_uri": "https://localhost:8080/"
        },
        "id": "WLRLBzNKRsiK",
        "outputId": "c5ddb64f-5bec-4c6b-f280-478a847a7727"
      },
      "execution_count": 6,
      "outputs": [
        {
          "output_type": "stream",
          "name": "stdout",
          "text": [
            "Epoch 1/3\n",
            "1875/1875 [==============================] - 11s 5ms/step - loss: 0.2662 - accuracy: 0.9218\n",
            "Epoch 2/3\n",
            "1875/1875 [==============================] - 15s 8ms/step - loss: 0.1085 - accuracy: 0.9669\n",
            "Epoch 3/3\n",
            "1875/1875 [==============================] - 9s 5ms/step - loss: 0.0743 - accuracy: 0.9764\n"
          ]
        }
      ]
    },
    {
      "cell_type": "code",
      "source": [
        "model = tf.keras.models.load_model('handwritten.model') #just load the model now without running the whole code"
      ],
      "metadata": {
        "id": "r7NdD1jrR7Ee"
      },
      "execution_count": 2,
      "outputs": []
    },
    {
      "cell_type": "code",
      "source": [
        "'''loss,accuracy =  model.evaluate(X_test,y_test)\n",
        "print(loss)\n",
        "print(accuracy)"
      ],
      "metadata": {
        "colab": {
          "base_uri": "https://localhost:8080/"
        },
        "id": "efM3LCkSUJo7",
        "outputId": "8161cdea-5488-4e88-e4b2-20ec730c9c82"
      },
      "execution_count": 8,
      "outputs": [
        {
          "output_type": "stream",
          "name": "stdout",
          "text": [
            "313/313 [==============================] - 1s 2ms/step - loss: 0.0897 - accuracy: 0.9718\n",
            "0.08967297524213791\n",
            "0.9718000292778015\n"
          ]
        }
      ]
    },
    {
      "cell_type": "code",
      "source": [
        "while os.path.isfile(\"/3.png\"): # checks whether this file exists or not\n",
        "  try:\n",
        "    img=cv2.imread(\"/3.png\")[:,:,0] #it selects only the first channel(greyscale channel) of the image. The result is a greyscale image\n",
        "    #It is usually used to convert a multi-channel image (a color image with multiple color channels) into a single-channel greyscale image for further processing or analysis\n",
        "    #By default it is white on black hence we have to invert the image\n",
        "\n",
        "    img=np.invert(np.array([img])) #image in a list as a numpy array which is inverted\n",
        "    #np.array([img]): converts the img variable into a NumPy array\n",
        "    #np.invert(): pixel value inversion\n",
        "\n",
        "    prediction=model.predict(img) #we're using the model to do the prediction\n",
        "    print(f\"This digit is probably a {np.argmax(prediction)}\") #gives the index of the filed that has the highest number, i.e which neuron has the highest activation\n",
        "    plt.imshow(img[0],cmap=plt.cm.binary)\n",
        "    break\n",
        "\n",
        "  except Exception as e: #probably this might fail because of a resolution error\n",
        "    print(f\"ERROR: {str(e)}\")\n"
      ],
      "metadata": {
        "colab": {
          "base_uri": "https://localhost:8080/",
          "height": 466
        },
        "id": "L8KPqDd3UYjO",
        "outputId": "3c9f193b-872f-44b7-d798-441fcdbd9f6a"
      },
      "execution_count": 3,
      "outputs": [
        {
          "output_type": "stream",
          "name": "stdout",
          "text": [
            "1/1 [==============================] - 0s 224ms/step\n",
            "This digit is probably a 3\n"
          ]
        },
        {
          "output_type": "display_data",
          "data": {
            "text/plain": [
              "<Figure size 640x480 with 1 Axes>"
            ],
            "image/png": "[encoded data removed]"
          },
          "metadata": {}
        }
      ]
    }
  ]
}